{
 "cells": [
  {
   "cell_type": "code",
   "execution_count": 1,
   "id": "a7b99ef5",
   "metadata": {},
   "outputs": [],
   "source": [
    "import pandas as pd"
   ]
  },
  {
   "cell_type": "code",
   "execution_count": 2,
   "id": "853c930f",
   "metadata": {},
   "outputs": [
    {
     "data": {
      "text/html": [
       "<div>\n",
       "<style scoped>\n",
       "    .dataframe tbody tr th:only-of-type {\n",
       "        vertical-align: middle;\n",
       "    }\n",
       "\n",
       "    .dataframe tbody tr th {\n",
       "        vertical-align: top;\n",
       "    }\n",
       "\n",
       "    .dataframe thead th {\n",
       "        text-align: right;\n",
       "    }\n",
       "</style>\n",
       "<table border=\"1\" class=\"dataframe\">\n",
       "  <thead>\n",
       "    <tr style=\"text-align: right;\">\n",
       "      <th></th>\n",
       "      <th>amount</th>\n",
       "    </tr>\n",
       "  </thead>\n",
       "  <tbody>\n",
       "    <tr>\n",
       "      <th>0</th>\n",
       "      <td>1000.00</td>\n",
       "    </tr>\n",
       "    <tr>\n",
       "      <th>1</th>\n",
       "      <td>200.00</td>\n",
       "    </tr>\n",
       "    <tr>\n",
       "      <th>2</th>\n",
       "      <td>555.12</td>\n",
       "    </tr>\n",
       "    <tr>\n",
       "      <th>3</th>\n",
       "      <td>876.34</td>\n",
       "    </tr>\n",
       "    <tr>\n",
       "      <th>4</th>\n",
       "      <td>345.00</td>\n",
       "    </tr>\n",
       "  </tbody>\n",
       "</table>\n",
       "</div>"
      ],
      "text/plain": [
       "    amount\n",
       "0  1000.00\n",
       "1   200.00\n",
       "2   555.12\n",
       "3   876.34\n",
       "4   345.00"
      ]
     },
     "execution_count": 2,
     "metadata": {},
     "output_type": "execute_result"
    }
   ],
   "source": [
    "first_df = pd.read_csv(\"firstfile.csv\")\n",
    "first_df.head()"
   ]
  },
  {
   "cell_type": "code",
   "execution_count": 3,
   "id": "bbec5c0f",
   "metadata": {},
   "outputs": [
    {
     "name": "stdout",
     "output_type": "stream",
     "text": [
      "2976.46\n"
     ]
    }
   ],
   "source": [
    "first_file_sum = first_df['amount'].sum()\n",
    "print(first_file_sum)"
   ]
  },
  {
   "cell_type": "code",
   "execution_count": 4,
   "id": "454db3a3",
   "metadata": {},
   "outputs": [
    {
     "name": "stdout",
     "output_type": "stream",
     "text": [
      "3256\n"
     ]
    }
   ],
   "source": [
    "second_df = pd.read_csv(\"secondfile.csv\")\n",
    "second_file_sum = second_df['amount'].sum()\n",
    "print(second_file_sum)"
   ]
  },
  {
   "cell_type": "code",
   "execution_count": 5,
   "id": "a98a298b",
   "metadata": {},
   "outputs": [
    {
     "name": "stdout",
     "output_type": "stream",
     "text": [
      "3208\n"
     ]
    }
   ],
   "source": [
    "third_df = pd.read_csv(\"thirdfile.csv\")\n",
    "third_file_sum = third_df['amount'].sum()\n",
    "print(third_file_sum)"
   ]
  },
  {
   "cell_type": "code",
   "execution_count": 6,
   "id": "9419e6c1",
   "metadata": {},
   "outputs": [],
   "source": [
    "import openpyxl"
   ]
  },
  {
   "cell_type": "code",
   "execution_count": 7,
   "id": "f85f3d23",
   "metadata": {},
   "outputs": [
    {
     "name": "stdout",
     "output_type": "stream",
     "text": [
      "[global]\n",
      "some value\n",
      "$$PROCESS_DT = 202204\n",
      "new line\n"
     ]
    }
   ],
   "source": [
    "! type parameterfile.txt"
   ]
  },
  {
   "cell_type": "code",
   "execution_count": 8,
   "id": "8e49049f",
   "metadata": {},
   "outputs": [
    {
     "name": "stdout",
     "output_type": "stream",
     "text": [
      "202204\n"
     ]
    }
   ],
   "source": [
    "# Code to fetch process date\n",
    "param_file = open('parameterfile.txt')\n",
    "process_dt = \"\".join([line.strip()[-6:] for line in param_file if '$$PROCESS_DT' in line])\n",
    "print(process_dt)"
   ]
  },
  {
   "cell_type": "code",
   "execution_count": 9,
   "id": "550e2dc2",
   "metadata": {},
   "outputs": [
    {
     "name": "stdout",
     "output_type": "stream",
     "text": [
      "Target File - Apr2022.xlsx\n"
     ]
    }
   ],
   "source": [
    "# Code for excel file name for respective month\n",
    "import calendar\n",
    "month_abbreviation = calendar.month_abbr[int(str(process_dt)[-2:])] # This line will convert month number to month abbreviation\n",
    "target_file_name = 'Target File - ' + month_abbreviation + str(process_dt)[0:4] + '.xlsx'\n",
    "print(target_file_name)"
   ]
  },
  {
   "cell_type": "code",
   "execution_count": 10,
   "id": "5185857a",
   "metadata": {},
   "outputs": [],
   "source": [
    "import pymysql\n",
    "try:\n",
    "    connection = pymysql.connect(host = \"localhost\",\n",
    "                     user = \"sai\",\n",
    "                     password = \"*******\",\n",
    "                     db = \"dummydb\")\n",
    "    cursor = connection.cursor()\n",
    "    first_sq_query = '''SELECT SUM(AMOUNT) FROM DUMMYTABLE \\\n",
    "    WHERE PROCESS_DT = %d''' %(int(process_dt))\n",
    "    cursor.execute(first_sq_query)\n",
    "    first_sq_sum = cursor.fetchone()[0]\n",
    "    second_sq_query = '''SELECT MIN(AMOUNT) FROM DUMMYTABLE \\\n",
    "    WHERE PROCESS_DT = %d''' %(int(process_dt))\n",
    "    cursor.execute(second_sq_query)\n",
    "    second_sq_sum = cursor.fetchone()[0]\n",
    "    connection.commit()\n",
    "except Exception as e:\n",
    "    print(\"something went wrong : \",e)\n",
    "finally:\n",
    "    cursor.close()\n",
    "    connection.close()"
   ]
  },
  {
   "cell_type": "code",
   "execution_count": 11,
   "id": "419da28a",
   "metadata": {},
   "outputs": [],
   "source": [
    "#Code to create excel file\n",
    "wb = openpyxl.Workbook()\n",
    "wb.save(target_file_name)"
   ]
  },
  {
   "cell_type": "code",
   "execution_count": 23,
   "id": "7ceb9c50",
   "metadata": {},
   "outputs": [],
   "source": [
    "wb1 = openpyxl.load_workbook(target_file_name)\n",
    "ws1 = wb1.active\n",
    "ws1.merge_cells('A1:J1')\n",
    "yellow = openpyxl.styles.colors.Color(rgb='FFFF00')\n",
    "filling = openpyxl.styles.fills.PatternFill(patternType='solid', fgColor=yellow)\n",
    "ws1['A1'].fill = filling\n",
    "ws1['A1'] = month_abbreviation + ' - ' + str(process_dt)[:4]\n",
    "ws1.cell(1,1).alignment = openpyxl.styles.Alignment(horizontal='center', vertical='center', wrap_text=True)\n",
    "ws1['G2'] = 'FIRST FILE SUM'\n",
    "ws1['H2'] = '$' + str(first_file_sum)\n",
    "ws1['G3'] = 'SECOND FILE SUM'\n",
    "ws1['H3'] = '$' + str(second_file_sum)\n",
    "ws1['G4'] = 'THIRD FILE SUM'\n",
    "ws1['H4'] = '$' + str(third_file_sum)\n",
    "three_file_diff = first_file_sum + second_file_sum + third_file_sum\n",
    "ws1['H5'] = '$' + str(three_file_diff)\n",
    "ws1['A2'] = 'FIRST QUERY SUM'\n",
    "ws1['B2'] = '$' + str(first_sq_sum)\n",
    "ws1['A3'] = 'SECOND QUERY SUM'\n",
    "ws1['B3'] = '$' + str(second_sq_sum)\n",
    "ws1['A4'] = 'FIRST AND SECOND QUERY DIFF'\n",
    "two_sq_diff = first_sq_sum - second_sq_sum\n",
    "ws1['B4'] = '$' + str(two_sq_diff)\n",
    "thin = openpyxl.styles.Side(border_style=\"thin\", color='00000000')\n",
    "for column in 'ABCDEFGHIJ':\n",
    "    for row in range(1,6):\n",
    "        cell_number = str(column) + str(row)\n",
    "        ws1[cell_number].border = openpyxl.styles.Border(top=thin, left=thin, right=thin, bottom=thin)\n",
    "ws1['C7'] = 'DIFFERENCE'\n",
    "ws1['C7'].font = openpyxl.styles.Font(color='00FF0000')\n",
    "ws1['D7'] = '$ (' + str(round(float(three_file_diff) - float(two_sq_diff),2)) + ')'\n",
    "ws1['D7'].font = openpyxl.styles.Font(color='00FF0000')\n",
    "wb1.save(target_file_name)"
   ]
  },
  {
   "cell_type": "code",
   "execution_count": null,
   "id": "9cf48d84",
   "metadata": {},
   "outputs": [],
   "source": []
  }
 ],
 "metadata": {
  "kernelspec": {
   "display_name": "Python 3 (ipykernel)",
   "language": "python",
   "name": "python3"
  },
  "language_info": {
   "codemirror_mode": {
    "name": "ipython",
    "version": 3
   },
   "file_extension": ".py",
   "mimetype": "text/x-python",
   "name": "python",
   "nbconvert_exporter": "python",
   "pygments_lexer": "ipython3",
   "version": "3.9.7"
  }
 },
 "nbformat": 4,
 "nbformat_minor": 5
}
